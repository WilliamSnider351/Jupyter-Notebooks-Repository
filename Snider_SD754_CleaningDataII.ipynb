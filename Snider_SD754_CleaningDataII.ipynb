{
 "cells": [
  {
   "cell_type": "markdown",
   "id": "3c02e99a-450c-4d79-acac-43239d735a82",
   "metadata": {},
   "source": [
    "**Low Variance Features Considered**"
   ]
  },
  {
   "cell_type": "code",
   "execution_count": 66,
   "id": "76854317-bf65-420a-a101-3fed63a03f9c",
   "metadata": {},
   "outputs": [],
   "source": [
    "import pandas as pd\n",
    "import matplotlib.pyplot as plt\n",
    "import seaborn as sns\n",
    "from sklearn.preprocessing import LabelEncoder\n",
    "from sklearn.preprocessing import StandardScaler"
   ]
  },
  {
   "cell_type": "code",
   "execution_count": 68,
   "id": "2ef41754-1ce6-48f9-9bfb-f1bf9b4b7b2e",
   "metadata": {},
   "outputs": [
    {
     "name": "stdout",
     "output_type": "stream",
     "text": [
      "Variance before scaling (on raw data):\n",
      "Pclass       0.699015\n",
      "Age        211.019125\n",
      "SibSp        1.216043\n",
      "Parch        0.649728\n",
      "Fare      2469.436846\n",
      "dtype: float64\n",
      "\n",
      "Low variance features before scaling (variance < 1.00):\n",
      "Pclass    0.699015\n",
      "Parch     0.649728\n",
      "dtype: float64\n",
      "\n",
      "Variance after scaling:\n",
      "Pclass    1.001124\n",
      "Age       1.001403\n",
      "SibSp     1.001124\n",
      "Parch     1.001124\n",
      "Fare      1.001124\n",
      "dtype: float64\n"
     ]
    }
   ],
   "source": [
    "titanic_df = pd.read_csv('titanic_dataset.csv')\n",
    "\n",
    "# Select numeric columns for analysis\n",
    "numeric_columns = ['Pclass', 'Age', 'SibSp', 'Parch', 'Fare']\n",
    "\n",
    "# 1. Calculate the variance of the numeric features before scaling (on raw data)\n",
    "variance_before_scaling = titanic_df[numeric_columns].var()\n",
    "\n",
    "# Print the variance before scaling\n",
    "print(\"Variance before scaling (on raw data):\")\n",
    "print(variance_before_scaling)\n",
    "\n",
    "# 2. Identify low variance features before scaling (variance < 1.00)\n",
    "low_variance_features_before_scaling = variance_before_scaling[variance_before_scaling < 1.00]\n",
    "\n",
    "# Print low variance features before scaling\n",
    "print(\"\\nLow variance features before scaling (variance < 1.00):\")\n",
    "print(low_variance_features_before_scaling)\n",
    "\n",
    "# 3. Standardize the data using StandardScaler\n",
    "scaler = StandardScaler()\n",
    "X_scaled = scaler.fit_transform(titanic_df[numeric_columns])\n",
    "\n",
    "# 4. Calculate the variance of the scaled features\n",
    "variance_after_scaling = pd.DataFrame(X_scaled, columns=numeric_columns).var()\n",
    "\n",
    "# Print the variance after scaling\n",
    "print(\"\\nVariance after scaling:\")\n",
    "print(variance_after_scaling)\n"
   ]
  },
  {
   "cell_type": "code",
   "execution_count": 54,
   "id": "0dfb09d1-a5b7-42a3-97a4-1261a0ce9469",
   "metadata": {},
   "outputs": [],
   "source": [
    "# The following features most likely have no mechanical influence on the survival rate: Name, Embarked, PassengerID, and Ticket.\n",
    "# Additionally, based on their low variances before scaling, I will add Pclass and Parch to the list of features with no mechanical \n",
    "# influence on survival rate.  Find the removal of these features in notebookI.  "
   ]
  },
  {
   "cell_type": "code",
   "execution_count": 70,
   "id": "818a3d19-69dd-4efa-980f-1e660957b9ba",
   "metadata": {},
   "outputs": [
    {
     "name": "stdout",
     "output_type": "stream",
     "text": [
      "\n",
      "First few rows of the cleaned dataset:\n",
      "   PassengerId  Survived     Sex   Age  SibSp     Fare Cabin\n",
      "0            1         0    male  22.0      1   7.2500   NaN\n",
      "1            2         1  female  38.0      1  71.2833   C85\n",
      "2            3         1  female  26.0      0   7.9250   NaN\n",
      "3            4         1  female  35.0      1  53.1000  C123\n",
      "4            5         0    male  35.0      0   8.0500   NaN\n"
     ]
    }
   ],
   "source": [
    "# Remove any low variance features that you've selected.  \n",
    "\n",
    "# List of columns to remove\n",
    "columns_to_remove = ['Name', 'Embarked', 'Ticket', 'Parch', 'Pclass']\n",
    "\n",
    "# Remove the specified columns\n",
    "titanic_df = titanic_df.drop(columns=columns_to_remove)\n",
    "\n",
    "# Print the first few rows of the cleaned dataset (Visualize Final Data Frame)\n",
    "print(\"\\nFirst few rows of the cleaned dataset:\")\n",
    "print(titanic_df.head())\n"
   ]
  }
 ],
 "metadata": {
  "kernelspec": {
   "display_name": "Python [conda env:base] *",
   "language": "python",
   "name": "conda-base-py"
  },
  "language_info": {
   "codemirror_mode": {
    "name": "ipython",
    "version": 3
   },
   "file_extension": ".py",
   "mimetype": "text/x-python",
   "name": "python",
   "nbconvert_exporter": "python",
   "pygments_lexer": "ipython3",
   "version": "3.12.7"
  }
 },
 "nbformat": 4,
 "nbformat_minor": 5
}
