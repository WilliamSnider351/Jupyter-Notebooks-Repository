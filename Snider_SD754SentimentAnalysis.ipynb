{
 "cells": [
  {
   "cell_type": "markdown",
   "id": "e6567345-1cc5-4c32-9c3e-f08dcb373d22",
   "metadata": {},
   "source": [
    "# Sentiment Analysis Using IMDB"
   ]
  },
  {
   "cell_type": "markdown",
   "id": "6ac10835-e413-4f3d-ae8a-82ec9b119ace",
   "metadata": {},
   "source": [
    "First, install the required packages"
   ]
  },
  {
   "cell_type": "code",
   "execution_count": 5,
   "id": "d6e33cca-de67-4e98-880e-fd9d45f7d998",
   "metadata": {},
   "outputs": [],
   "source": [
    "!pip install transformers datasets hf_xet accelerate>=0.26.0 tf-keras"
   ]
  },
  {
   "cell_type": "markdown",
   "id": "d95ff09c-bc0d-4c39-a2fc-659aed9abcb7",
   "metadata": {},
   "source": [
    "If you get an auth error on tf-keras, use <b>!pip install tf-keras --user"
   ]
  },
  {
   "cell_type": "markdown",
   "id": "ab2dabe2-1541-4118-bbe7-03c6010acec2",
   "metadata": {},
   "source": [
    "# Before Continuing, restart your kernel for the package installs to take effect"
   ]
  },
  {
   "cell_type": "code",
   "execution_count": 6,
   "id": "45532ae5-606f-4dbe-91f3-a3f37c9237c0",
   "metadata": {},
   "outputs": [],
   "source": [
    "# import required packages\n",
    "# this cell is complete\n",
    "import warnings\n",
    "import numpy as np\n",
    "import matplotlib.pyplot as plt\n",
    "from datasets import load_dataset\n",
    "from transformers import AutoTokenizer, AutoModelForSequenceClassification, TrainingArguments, Trainer\n",
    "from transformers import DataCollatorWithPadding\n",
    "from sklearn.metrics import accuracy_score, precision_recall_fscore_support"
   ]
  },
  {
   "cell_type": "markdown",
   "id": "bd56e7c7-08c6-48fa-86f2-b40d3d564f93",
   "metadata": {},
   "source": [
    "Ignore user and depreciation warnings"
   ]
  },
  {
   "cell_type": "code",
   "execution_count": 9,
   "id": "b6db4648-b215-46cd-a026-e76dec13e7c5",
   "metadata": {},
   "outputs": [],
   "source": [
    "# this cell is complete\n",
    "warnings.filterwarnings('ignore', category=UserWarning)\n",
    "warnings.filterwarnings('ignore', category=DeprecationWarning)\n",
    "warnings.filterwarnings('ignore', category=FutureWarning)"
   ]
  },
  {
   "cell_type": "markdown",
   "id": "40a497a8-9392-4892-b33c-a7b090b54280",
   "metadata": {},
   "source": [
    "Load the IMDB dataset"
   ]
  },
  {
   "cell_type": "code",
   "execution_count": 11,
   "id": "69d38ce3-0e14-4335-a54a-8b0d3733297f",
   "metadata": {},
   "outputs": [],
   "source": [
    "dataset = load_dataset(\"imdb\")"
   ]
  },
  {
   "cell_type": "markdown",
   "id": "1c08e411-ab43-44ea-957c-6c7d77ddc8de",
   "metadata": {},
   "source": [
    "Use a subset for training and testing - use a seed of 42, training range of 1000 and testing range of 200"
   ]
  },
  {
   "cell_type": "code",
   "execution_count": 13,
   "id": "65df8289-4144-4f69-9944-5f28233caf9f",
   "metadata": {},
   "outputs": [],
   "source": [
    "train_dataset = dataset['train'].shuffle(seed=42).select(range(1000))\n",
    "test_dataset = dataset['test'].shuffle(seed=42).select(range(200))"
   ]
  },
  {
   "cell_type": "markdown",
   "id": "549812c7-e770-4a08-ab7b-972ac4ee615f",
   "metadata": {},
   "source": [
    "Display basic information about the datasets"
   ]
  },
  {
   "cell_type": "code",
   "execution_count": 17,
   "id": "f2c5fde2-a31a-4e5e-8cca-09d0c9725854",
   "metadata": {},
   "outputs": [
    {
     "name": "stdout",
     "output_type": "stream",
     "text": [
      "Train dataset size: 1000\n",
      "Test dataset size: 200\n",
      "\n",
      "--------------------------------------------------\n",
      "\n"
     ]
    }
   ],
   "source": [
    "# this cell is complete\n",
    "print(\"Train dataset size:\", len(train_dataset))\n",
    "print(\"Test dataset size:\", len(test_dataset))\n",
    "print(\"\\n\" + \"-\"*50 + \"\\n\")"
   ]
  },
  {
   "cell_type": "markdown",
   "id": "f58d9a20-586c-41cb-860b-7540346b6359",
   "metadata": {},
   "source": [
    "Display the column names/features"
   ]
  },
  {
   "cell_type": "code",
   "execution_count": 15,
   "id": "b9a3c058-4ad4-4eb6-b1ed-3a604c68db03",
   "metadata": {},
   "outputs": [
    {
     "name": "stdout",
     "output_type": "stream",
     "text": [
      "Dataset features: ['text', 'label']\n",
      "\n",
      "--------------------------------------------------\n",
      "\n"
     ]
    }
   ],
   "source": [
    "# this cell is complete\n",
    "print(\"Dataset features:\", train_dataset.column_names)\n",
    "print(\"\\n\" + \"-\"*50 + \"\\n\")"
   ]
  },
  {
   "cell_type": "markdown",
   "id": "bda3d525-6053-4cf7-9f31-a1bc50926ad8",
   "metadata": {},
   "source": [
    "Display a few examples from the training set"
   ]
  },
  {
   "cell_type": "code",
   "execution_count": 19,
   "id": "3d922c96-81a6-40f8-b621-3c6c464af5a2",
   "metadata": {},
   "outputs": [
    {
     "name": "stdout",
     "output_type": "stream",
     "text": [
      "Sample examples from training set:\n",
      "\n",
      "Example 1:\n",
      "Text: There is no relation at all between Fortier and Profiler but the fact that both are police series about violent crimes. Profiler looks crispy, Fortier looks classic. Profiler plots are quite simple. F... (truncated)\n",
      "Label: Positive (1)\n",
      "\n",
      "--------------------------------------------------\n",
      "\n",
      "\n",
      "Example 2:\n",
      "Text: This movie is a great. The plot is very true to the book which is a classic written by Mark Twain. The movie starts of with a scene where Hank sings a song with a bunch of kids called \"when you stub y... (truncated)\n",
      "Label: Positive (1)\n",
      "\n",
      "--------------------------------------------------\n",
      "\n",
      "\n",
      "Example 3:\n",
      "Text: George P. Cosmatos' \"Rambo: First Blood Part II\" is pure wish-fulfillment. The United States clearly didn't win the war in Vietnam. They caused damage to this country beyond the imaginable and this mo... (truncated)\n",
      "Label: Negative (0)\n",
      "\n",
      "--------------------------------------------------\n",
      "\n"
     ]
    }
   ],
   "source": [
    "# this cell is complete\n",
    "print(\"Sample examples from training set:\")\n",
    "for i in range(3):  # Show first 3 examples\n",
    "    print(f\"\\nExample {i+1}:\")\n",
    "    example = train_dataset[i]\n",
    "    \n",
    "    # Print text (truncated if too long)\n",
    "    text = example['text']\n",
    "    if len(text) > 200:\n",
    "        text = text[:200] + \"... (truncated)\"\n",
    "    print(f\"Text: {text}\")\n",
    "    \n",
    "    # Print label\n",
    "    label_id = example['label']\n",
    "    label_name = \"Positive\" if label_id == 1 else \"Negative\"\n",
    "    print(f\"Label: {label_name} ({label_id})\")\n",
    "    print(\"\\n\" + \"-\"*50 + \"\\n\")"
   ]
  },
  {
   "cell_type": "markdown",
   "id": "b6907b9c-f573-4256-92bf-a22680400468",
   "metadata": {},
   "source": [
    "Check label distribution"
   ]
  },
  {
   "cell_type": "code",
   "execution_count": 29,
   "id": "df8bb9a9-0a48-4542-a4c5-ceae57837f78",
   "metadata": {},
   "outputs": [
    {
     "name": "stdout",
     "output_type": "stream",
     "text": [
      "Label distribution:\n",
      "Training set: 488 positive, 512 negative\n",
      "Test set: 96 positive, 104 negative\n",
      "\n",
      "--------------------------------------------------\n",
      "\n"
     ]
    }
   ],
   "source": [
    "train_labels = [example['label'] for example in train_dataset]\n",
    "test_labels = [example['label'] for example in test_dataset]\n",
    "\n",
    "train_positive = sum(train_labels)\n",
    "train_negative = len(train_labels) - train_positive\n",
    "test_positive = sum(test_labels)\n",
    "test_negative = len(test_labels) - test_positive\n",
    "\n",
    "print(\"Label distribution:\")\n",
    "print(f\"Training set: {train_positive} positive, {train_negative} negative\")\n",
    "print(f\"Test set: {test_positive} positive, {test_negative} negative\")\n",
    "print(\"\\n\" + \"-\"*50 + \"\\n\")"
   ]
  },
  {
   "cell_type": "markdown",
   "id": "0d9d9c20-11a3-45d7-bf87-8e88f8e554c6",
   "metadata": {},
   "source": [
    "<b>Load a pre-trained tokenizer</b>"
   ]
  },
  {
   "cell_type": "markdown",
   "id": "68aed419-8b44-4ff5-a104-b3a9f4cbe6fe",
   "metadata": {},
   "source": [
    "Using the matching pre-trained tokenizer is crucial because:\n",
    "- If you used a different tokenizer, the model wouldn't understand the input, as it expects specific token IDs that correspond to its vocabulary.\n",
    "- The model was trained with text processed in a specific way, so using the same tokenizer ensures consistency.\n",
    "\n",
    "When you call `from_pretrained()`, the tokenizer is downloaded from the Hugging Face Hub, including its vocabulary file and configuration, ensuring perfect compatibility with the model you're using."
   ]
  },
  {
   "cell_type": "code",
   "execution_count": 86,
   "id": "a7587d62-f560-496f-9379-290ccd742871",
   "metadata": {},
   "outputs": [],
   "source": [
    "model_name = \"distilbert-base-uncased\"\n",
    "tokenizer = AutoTokenizer.from_pretrained(model_name)"
   ]
  },
  {
   "cell_type": "code",
   "execution_count": 33,
   "id": "141fcc1d-3335-48a1-a509-495e1b1133c8",
   "metadata": {},
   "outputs": [
    {
     "name": "stdout",
     "output_type": "stream",
     "text": [
      "['just', 'testing', 'it', 'out']\n"
     ]
    }
   ],
   "source": [
    "print(tokenizer.tokenize(\"Just testing it out\"))"
   ]
  },
  {
   "cell_type": "markdown",
   "id": "fcf590f1-141a-402a-a38a-a4a0d088c6c7",
   "metadata": {},
   "source": [
    "<b>Tokenize the datasets</b> <br><br>\n",
    "The tokenizer processes the \"text\" field of each example, applying transformations. The `batched=True` parameter allows for efficient processing of multiple examples at once.\n",
    "<br>\n",
    "The resulting `tokenized_train_dataset` contains the original fields plus new ones like `input_ids` (token IDs), `attention_mask`, and potentially `token_type_ids` depending on the model"
   ]
  },
  {
   "cell_type": "code",
   "execution_count": 88,
   "id": "c4a122db-d662-415b-a6bf-19dce9831fe8",
   "metadata": {},
   "outputs": [
    {
     "data": {
      "application/vnd.jupyter.widget-view+json": {
       "model_id": "fa61a968bdab4960a15d3d8b14a46a31",
       "version_major": 2,
       "version_minor": 0
      },
      "text/plain": [
       "Map:   0%|          | 0/200 [00:00<?, ? examples/s]"
      ]
     },
     "metadata": {},
     "output_type": "display_data"
    }
   ],
   "source": [
    "def tokenize_function(examples):\n",
    "    return tokenizer(examples[\"text\"], truncation=True)\n",
    "\n",
    "tokenized_train_dataset = train_dataset.map(tokenize_function, batched=True)\n",
    "tokenized_test_dataset = test_dataset.map(tokenize_function, batched=True)"
   ]
  },
  {
   "cell_type": "markdown",
   "id": "e5138244-6df2-42cb-98cb-70b8855dcd92",
   "metadata": {},
   "source": [
    "<b>Load a pre-trained model</b> - see information at the end of this example to understand selecting pretrained models. <br>\n",
    "In this example with `AutoModelForSequenceClassification.from_pretrained(model_name, num_labels=2)`, I'm taking advantage of a model that already understands language patterns and adapting it specifically for a binary classification task."
   ]
  },
  {
   "cell_type": "code",
   "execution_count": 43,
   "id": "cec6b2ed-e3ba-4347-8082-db079bdbf058",
   "metadata": {},
   "outputs": [
    {
     "data": {
      "application/vnd.jupyter.widget-view+json": {
       "model_id": "218559fe33fa4d70a3158be7f7ad4e51",
       "version_major": 2,
       "version_minor": 0
      },
      "text/plain": [
       "model.safetensors:   0%|          | 0.00/268M [00:00<?, ?B/s]"
      ]
     },
     "metadata": {},
     "output_type": "display_data"
    },
    {
     "name": "stderr",
     "output_type": "stream",
     "text": [
      "Some weights of DistilBertForSequenceClassification were not initialized from the model checkpoint at distilbert-base-uncased and are newly initialized: ['classifier.bias', 'classifier.weight', 'pre_classifier.bias', 'pre_classifier.weight']\n",
      "You should probably TRAIN this model on a down-stream task to be able to use it for predictions and inference.\n"
     ]
    }
   ],
   "source": [
    "model = AutoModelForSequenceClassification.from_pretrained(model_name, num_labels=2)"
   ]
  },
  {
   "cell_type": "markdown",
   "id": "2ca37f6b-b359-48a8-aeee-7b23096dc7ac",
   "metadata": {},
   "source": [
    "<i>You may receive information in a pink output cell. This warning is informational and not an error. \n",
    "It's telling you that when you loaded the pre-trained DistilBERT model and added a classification head (for your specific task), some layers were initialized with random weights because they weren't part of the original pre-trained model.\n",
    "\n",
    "This is expected behavior when you're adapting a pre-trained model for a specific downstream task like text classification. The warning is just reminding you that you should train the model before using it for predictions.</i>"
   ]
  },
  {
   "cell_type": "markdown",
   "id": "3a7a59eb-40e4-4da6-a275-8b75a8180f51",
   "metadata": {},
   "source": [
    "<br><b>Define data collator</b><br><br>\n",
    "The data collator is initialized with your tokenizer so it knows:\n",
    "- What padding token to use\n",
    "- What the model's vocabulary is\n",
    "- What the maximum sequence length should be\n",
    "\n",
    "Later, when you pass this to the `Trainer` class, it uses this collator during training to dynamically create optimized batches. This is more efficient than pre-padding the entire dataset because:\n",
    "1. It minimizes the amount of padding used\n",
    "2. It reduces memory usage\n",
    "3. It speeds up training by avoiding unnecessary computations on padding tokens\n",
    "\n",
    "Without a data collator, you would need to manually handle all these batch preparation steps."
   ]
  },
  {
   "cell_type": "code",
   "execution_count": 49,
   "id": "77e8b7cd-4728-413d-bd6f-8c987ca1874d",
   "metadata": {},
   "outputs": [],
   "source": [
    "data_collator = DataCollatorWithPadding(tokenizer=tokenizer)"
   ]
  },
  {
   "cell_type": "markdown",
   "id": "c9b14987-55ba-44e6-abbb-1033ad85e471",
   "metadata": {},
   "source": [
    "Define evaluation metrics"
   ]
  },
  {
   "cell_type": "code",
   "execution_count": 79,
   "id": "7f50c63d-add1-4060-a84b-4fc3410c2d61",
   "metadata": {},
   "outputs": [],
   "source": [
    "def compute_metrics(eval_pred):\n",
    "    logits, labels = eval_pred\n",
    "    predictions = np.argmax(logits, axis=-1)\n",
    "    precision, recall, f1, _ = precision_recall_fscore_support(labels, predictions, average='binary')\n",
    "    acc = accuracy_score(labels, predictions)\n",
    "    return {\"accuracy\": acc, \"f1\": f1, \"precision\": precision, \"recall\": recall}"
   ]
  },
  {
   "cell_type": "markdown",
   "id": "c32b4971-e8ba-4e03-b502-b4f4c22990ea",
   "metadata": {},
   "source": [
    "Set up training arguments"
   ]
  },
  {
   "cell_type": "code",
   "execution_count": 81,
   "id": "203d0598-9cab-4328-a042-c2d8144276fe",
   "metadata": {},
   "outputs": [],
   "source": [
    "training_args = TrainingArguments(\n",
    "    output_dir=\"./results\",\n",
    "    eval_strategy=\"epoch\",  \n",
    "    per_device_train_batch_size=8,\n",
    "    per_device_eval_batch_size=8,\n",
    "    num_train_epochs=2,\n",
    "    weight_decay=0.01,\n",
    "    logging_dir='./logs',\n",
    "    logging_steps=10,\n",
    ")"
   ]
  },
  {
   "cell_type": "markdown",
   "id": "ec4e6379-3714-41fc-9813-2dfc20ade80e",
   "metadata": {},
   "source": [
    "Initialize Trainer"
   ]
  },
  {
   "cell_type": "code",
   "execution_count": 71,
   "id": "d93ad732-164c-4e9b-83cf-664baa4e51d6",
   "metadata": {},
   "outputs": [],
   "source": [
    "trainer = Trainer(\n",
    "    model=model,\n",
    "    args=training_args,\n",
    "    train_dataset=tokenized_train_dataset,\n",
    "    eval_dataset=tokenized_test_dataset,\n",
    "    tokenizer=tokenizer,\n",
    "    data_collator=data_collator,\n",
    "    compute_metrics=compute_metrics,\n",
    ")"
   ]
  },
  {
   "cell_type": "markdown",
   "id": "9697f997-c64a-4231-a88b-548abfdebf0b",
   "metadata": {},
   "source": [
    "<b>Train the model - this step may take up to 40 minutes to execute.</b>"
   ]
  },
  {
   "cell_type": "code",
   "execution_count": 73,
   "id": "a503e355-e077-43f9-a5bc-a162610b2fac",
   "metadata": {},
   "outputs": [
    {
     "data": {
      "text/html": [
       "\n",
       "    <div>\n",
       "      \n",
       "      <progress value='250' max='250' style='width:300px; height:20px; vertical-align: middle;'></progress>\n",
       "      [250/250 39:06, Epoch 2/2]\n",
       "    </div>\n",
       "    <table border=\"1\" class=\"dataframe\">\n",
       "  <thead>\n",
       " <tr style=\"text-align: left;\">\n",
       "      <th>Epoch</th>\n",
       "      <th>Training Loss</th>\n",
       "      <th>Validation Loss</th>\n",
       "      <th>Accuracy</th>\n",
       "      <th>F1</th>\n",
       "      <th>Precision</th>\n",
       "      <th>Recall</th>\n",
       "    </tr>\n",
       "  </thead>\n",
       "  <tbody>\n",
       "    <tr>\n",
       "      <td>1</td>\n",
       "      <td>0.347800</td>\n",
       "      <td>0.612735</td>\n",
       "      <td>0.850000</td>\n",
       "      <td>0.835165</td>\n",
       "      <td>0.883721</td>\n",
       "      <td>0.791667</td>\n",
       "    </tr>\n",
       "    <tr>\n",
       "      <td>2</td>\n",
       "      <td>0.048400</td>\n",
       "      <td>0.731399</td>\n",
       "      <td>0.855000</td>\n",
       "      <td>0.859903</td>\n",
       "      <td>0.801802</td>\n",
       "      <td>0.927083</td>\n",
       "    </tr>\n",
       "  </tbody>\n",
       "</table><p>"
      ],
      "text/plain": [
       "<IPython.core.display.HTML object>"
      ]
     },
     "metadata": {},
     "output_type": "display_data"
    },
    {
     "data": {
      "text/plain": [
       "TrainOutput(global_step=250, training_loss=0.17420496182143688, metrics={'train_runtime': 2361.1011, 'train_samples_per_second': 0.847, 'train_steps_per_second': 0.106, 'total_flos': 248428117557600.0, 'train_loss': 0.17420496182143688, 'epoch': 2.0})"
      ]
     },
     "execution_count": 73,
     "metadata": {},
     "output_type": "execute_result"
    }
   ],
   "source": [
    "# this cell is complete\n",
    "trainer.train()"
   ]
  },
  {
   "cell_type": "markdown",
   "id": "17d34d7e-f8f5-4a67-9b9d-294b218073c4",
   "metadata": {},
   "source": [
    "<b>A low training loss suggests the model is fitting well to the training data</b><br>\n",
    "For a more detailed explaination of the trainer output, I have added information to the end of this Notebook."
   ]
  },
  {
   "cell_type": "markdown",
   "id": "9f56c1ac-7436-445a-87ab-86bed34dcccf",
   "metadata": {},
   "source": [
    "Evaluate the model"
   ]
  },
  {
   "cell_type": "code",
   "execution_count": 75,
   "id": "9405f3f0-0061-464e-9418-2b398e76a233",
   "metadata": {},
   "outputs": [
    {
     "data": {
      "text/html": [
       "\n",
       "    <div>\n",
       "      \n",
       "      <progress value='25' max='25' style='width:300px; height:20px; vertical-align: middle;'></progress>\n",
       "      [25/25 00:29]\n",
       "    </div>\n",
       "    "
      ],
      "text/plain": [
       "<IPython.core.display.HTML object>"
      ]
     },
     "metadata": {},
     "output_type": "display_data"
    },
    {
     "name": "stdout",
     "output_type": "stream",
     "text": [
      "Evaluation results: {'eval_loss': 0.7313987612724304, 'eval_accuracy': 0.855, 'eval_f1': 0.8599033816425121, 'eval_precision': 0.8018018018018018, 'eval_recall': 0.9270833333333334, 'eval_runtime': 30.4323, 'eval_samples_per_second': 6.572, 'eval_steps_per_second': 0.821, 'epoch': 2.0}\n"
     ]
    }
   ],
   "source": [
    "eval_results = trainer.evaluate()\n",
    "print(f\"Evaluation results: {eval_results}\")"
   ]
  },
  {
   "cell_type": "markdown",
   "id": "bc05b8dd-a3b8-4a61-a585-f45a8976000b",
   "metadata": {},
   "source": [
    "Visualize results"
   ]
  },
  {
   "cell_type": "code",
   "execution_count": 77,
   "id": "1192820f-2426-43d2-a895-981978ae57b5",
   "metadata": {},
   "outputs": [
    {
     "data": {
      "image/png": "[encoded data removed]",
      "text/plain": [
       "<Figure size 640x480 with 2 Axes>"
      ]
     },
     "metadata": {},
     "output_type": "display_data"
    }
   ],
   "source": [
    "# this cell is complete\n",
    "labels = [\"Negative\", \"Positive\"]\n",
    "conf_matrix = np.array([[eval_results['eval_precision'], 1 - eval_results['eval_precision']],\n",
    "                        [1 - eval_results['eval_recall'], eval_results['eval_recall']]])\n",
    "\n",
    "fig, ax = plt.subplots()\n",
    "cax = ax.matshow(conf_matrix, cmap='Blues')\n",
    "fig.colorbar(cax)\n",
    "\n",
    "for (i, j), val in np.ndenumerate(conf_matrix):\n",
    "    ax.text(j, i, f'{val:.2f}', ha='center', va='center', color='black')\n",
    "\n",
    "ax.set_xticklabels([''] + labels)\n",
    "ax.set_yticklabels([''] + labels)\n",
    "plt.xlabel('Predicted')\n",
    "plt.ylabel('True')\n",
    "plt.title('Confusion Matrix')\n",
    "plt.show()"
   ]
  },
  {
   "cell_type": "markdown",
   "id": "92b75f62-3f76-424b-811b-e10dee1607cb",
   "metadata": {},
   "source": [
    "**********************"
   ]
  },
  {
   "cell_type": "markdown",
   "id": "4754e6bc-a7c9-4002-ade8-b6896c040312",
   "metadata": {},
   "source": [
    "Choosing the right pre-trained model depends on several factors. Here's how you can make an informed decision:\n",
    "\n",
    "1. **Task requirements**: \n",
    "   - For text classification: BERT, RoBERTa, DistilBERT, XLNet\n",
    "   - For sequence generation: T5, BART, GPT-2\n",
    "   - For token classification (NER): BERT, RoBERTa\n",
    "   - For question answering: BERT, RoBERTa, ALBERT\n",
    "\n",
    "2. **Resource constraints**:\n",
    "   - Limited resources: DistilBERT, MobileBERT, TinyBERT\n",
    "   - More resources available: RoBERTa, BERT-large, XLNet\n",
    "\n",
    "3. **Language requirements**:\n",
    "   - English only: Most models with \"base\" or \"english\" in name\n",
    "   - Multilingual: models with \"multilingual\" in name\n",
    "   - Specific languages: language-specific models (e.g., CamemBERT for French)\n",
    "\n",
    "4. **Performance vs. speed tradeoff**:\n",
    "   - Faster inference: DistilBERT, ALBERT\n",
    "   - Higher accuracy: RoBERTa, XLNet\n",
    "\n",
    "5. **Domain specificity**:\n",
    "   - General text: BERT, RoBERTa\n",
    "   - Scientific/biomedical: BioBERT, SciBERT\n",
    "   - Code: CodeBERT\n",
    "\n",
    "You can explore models on the Hugging Face Hub (https://huggingface.co/models) and filter by task, language, etc.\n",
    "\n",
    "For your specific example with binary classification (`num_labels=2`), models like DistilBERT, BERT, or RoBERTa with `AutoModelForSequenceClassification` are good choices."
   ]
  },
  {
   "cell_type": "markdown",
   "id": "b1be72ed-00dc-4d85-8fe2-01cd58535433",
   "metadata": {},
   "source": [
    "*****************************"
   ]
  },
  {
   "cell_type": "markdown",
   "id": "04cebd33-b9c4-4c51-87ff-401a5a3791a2",
   "metadata": {},
   "source": [
    "# Understanding TrainOutput in Hugging Face Transformers\n",
    "\n",
    "This output is from a Hugging Face Transformers model training session. Let me break down what each component means:\n",
    "\n",
    "## Training Metrics Explained\n",
    "\n",
    "- **global_step=250**: The total number of training steps (batches) processed during training.\n",
    "\n",
    "- **training_loss=0.3090102338790894**: The average loss across all training steps. This relatively low value (0.309) suggests the model is learning well.\n",
    "\n",
    "- **train_runtime: 21166.7664**: Total training time in seconds (about 5.9 hours).\n",
    "\n",
    "- **train_samples_per_second: 0.094**: The model processed approximately 0.094 samples per second, indicating a relatively slow training speed.\n",
    "\n",
    "- **train_steps_per_second: 0.012**: The model completed about 0.012 training steps per second.\n",
    "\n",
    "- **total_flos: 248428117557600.0**: Total floating-point operations performed during training (approximately 248.4 trillion FLOPs), indicating computational complexity.\n",
    "\n",
    "- **epoch: 2.0**: The model completed exactly 2 epochs of training.\n",
    "\n",
    "## Interpretation\n",
    "\n",
    "This output shows a model that:\n",
    "- Trained for 2 complete epochs\n",
    "- Achieved a good loss value of 0.309\n",
    "- Required significant computational resources (248.4T FLOPs)\n",
    "- Had relatively slow processing speed (0.094 samples/second)"
   ]
  }
 ],
 "metadata": {
  "kernelspec": {
   "display_name": "Python [conda env:base] *",
   "language": "python",
   "name": "conda-base-py"
  },
  "language_info": {
   "codemirror_mode": {
    "name": "ipython",
    "version": 3
   },
   "file_extension": ".py",
   "mimetype": "text/x-python",
   "name": "python",
   "nbconvert_exporter": "python",
   "pygments_lexer": "ipython3",
   "version": "3.12.7"
  }
 },
 "nbformat": 4,
 "nbformat_minor": 5
}
