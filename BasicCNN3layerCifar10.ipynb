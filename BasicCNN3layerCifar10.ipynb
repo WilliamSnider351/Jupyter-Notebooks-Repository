{
  "nbformat": 4,
  "nbformat_minor": 0,
  "metadata": {
    "colab": {
      "provenance": [],
      "gpuType": "T4"
    },
    "kernelspec": {
      "name": "python3",
      "display_name": "Python 3"
    },
    "language_info": {
      "name": "python"
    },
    "accelerator": "GPU"
  },
  "cells": [
    {
      "cell_type": "code",
      "execution_count": 8,
      "metadata": {
        "id": "13JsbtxDw76K"
      },
      "outputs": [],
      "source": [
        "import torch\n",
        "import torch.nn as nn\n",
        "import torch.optim as optim\n",
        "import torchvision\n",
        "import torchvision.transforms as transforms\n",
        "from torch.utils.data import DataLoader"
      ]
    },
    {
      "cell_type": "code",
      "source": [
        "class SimpleCNN(nn.Module):\n",
        "    def __init__(self):\n",
        "        super(SimpleCNN, self).__init__()\n",
        "\n",
        "        # 3 Convolutional Layers with padding to maintain image dimensions\n",
        "        self.conv1 = nn.Conv2d(3, 32, kernel_size=3, padding=1)  # 32 filters\n",
        "        self.conv2 = nn.Conv2d(32, 64, kernel_size=3, padding=1)  # 64 filters\n",
        "        self.conv3 = nn.Conv2d(64, 128, kernel_size=3, padding=1)  # 128 filters\n",
        "\n",
        "        # Fully connected layers\n",
        "        self.fc1 = nn.Linear(128 * 4 * 4, 512)  # CIFAR-10 image is 32x32, after pooling it reduces to 4x4\n",
        "        self.fc2 = nn.Linear(512, 10)  # CIFAR-10 has 10 classes\n",
        "\n",
        "        # Pooling layer\n",
        "        self.pool = nn.MaxPool2d(2, 2)\n",
        "\n",
        "    def forward(self, x):\n",
        "        # Apply convolutions + ReLU activations + Pooling\n",
        "        x = self.pool(torch.relu(self.conv1(x)))  # Conv1 -> Pool1\n",
        "        x = self.pool(torch.relu(self.conv2(x)))  # Conv2 -> Pool2\n",
        "        x = self.pool(torch.relu(self.conv3(x)))  # Conv3 -> Pool3\n",
        "\n",
        "        # Flatten the tensor for the fully connected layer\n",
        "        x = x.view(-1, 128 * 4 * 4)  # Flatten the output to fit into the fully connected layers\n",
        "\n",
        "        x = torch.relu(self.fc1(x))  # Fully connected layer 1\n",
        "        x = self.fc2(x)  # Output layer for classification (10 classes)\n",
        "\n",
        "        return x  # Ensure the model returns the output (this was missing previously)"
      ],
      "metadata": {
        "id": "TBgEV2HQy-ga"
      },
      "execution_count": 14,
      "outputs": []
    },
    {
      "cell_type": "code",
      "source": [
        "device = torch.device(\"cuda\" if torch.cuda.is_available() else \"cpu\")"
      ],
      "metadata": {
        "id": "MKgVKPvIxMp5"
      },
      "execution_count": 15,
      "outputs": []
    },
    {
      "cell_type": "code",
      "source": [
        "# Data transformations: Random horizontal flip, random crop, and normalization\n",
        "transform = transforms.Compose([\n",
        "    transforms.RandomHorizontalFlip(),\n",
        "    transforms.RandomCrop(32, padding=4),\n",
        "    transforms.ToTensor(),\n",
        "    transforms.Normalize(mean=[0.4914, 0.4822, 0.4465], std=[0.2470, 0.2435, 0.2616]),\n",
        "])\n",
        "\n",
        "# Download and load CIFAR-10 dataset\n",
        "trainset = torchvision.datasets.CIFAR10(root='./data', train=True, download=True, transform=transform)\n",
        "trainloader = DataLoader(trainset, batch_size=64, shuffle=True, num_workers=2)\n",
        "\n",
        "testset = torchvision.datasets.CIFAR10(root='./data', train=False, download=True, transform=transform)\n",
        "testloader = DataLoader(testset, batch_size=64, shuffle=False, num_workers=2)"
      ],
      "metadata": {
        "id": "oVqZ5NEuxMsy"
      },
      "execution_count": 16,
      "outputs": []
    },
    {
      "cell_type": "code",
      "source": [
        "# Initialize the CNN model\n",
        "model = SimpleCNN().to(device)\n",
        "\n",
        "# Loss function: Cross-Entropy Loss for multi-class classification\n",
        "criterion = nn.CrossEntropyLoss()\n",
        "\n",
        "# Optimizer: Adam optimizer with a learning rate of 0.001\n",
        "optimizer = optim.Adam(model.parameters(), lr=0.001)\n",
        "\n",
        "# Print the model architecture (optional)\n",
        "print(model)"
      ],
      "metadata": {
        "colab": {
          "base_uri": "https://localhost:8080/"
        },
        "id": "5ls1DnJqxMvh",
        "outputId": "433f21d2-b9c9-47eb-ec95-a2c8d8c91da7"
      },
      "execution_count": 17,
      "outputs": [
        {
          "output_type": "stream",
          "name": "stdout",
          "text": [
            "SimpleCNN(\n",
            "  (conv1): Conv2d(3, 32, kernel_size=(3, 3), stride=(1, 1), padding=(1, 1))\n",
            "  (conv2): Conv2d(32, 64, kernel_size=(3, 3), stride=(1, 1), padding=(1, 1))\n",
            "  (conv3): Conv2d(64, 128, kernel_size=(3, 3), stride=(1, 1), padding=(1, 1))\n",
            "  (fc1): Linear(in_features=2048, out_features=512, bias=True)\n",
            "  (fc2): Linear(in_features=512, out_features=10, bias=True)\n",
            "  (pool): MaxPool2d(kernel_size=2, stride=2, padding=0, dilation=1, ceil_mode=False)\n",
            ")\n"
          ]
        }
      ]
    },
    {
      "cell_type": "code",
      "source": [
        "# Number of epochs for training\n",
        "num_epochs = 10\n",
        "\n",
        "# Training loop\n",
        "for epoch in range(num_epochs):\n",
        "    model.train()  # Set the model to training mode\n",
        "    running_loss = 0.0\n",
        "    correct = 0\n",
        "    total = 0\n",
        "\n",
        "    # Iterate through the training dataset\n",
        "    for inputs, labels in trainloader:\n",
        "        inputs, labels = inputs.to(device), labels.to(device)\n",
        "\n",
        "        # Zero the gradients\n",
        "        optimizer.zero_grad()\n",
        "\n",
        "        # Forward pass\n",
        "        outputs = model(inputs)\n",
        "\n",
        "        # Compute loss\n",
        "        loss = criterion(outputs, labels)\n",
        "\n",
        "        # Backward pass and optimization\n",
        "        loss.backward()\n",
        "        optimizer.step()\n",
        "\n",
        "        # Update running loss and accuracy\n",
        "        running_loss += loss.item()\n",
        "\n",
        "        _, predicted = torch.max(outputs.data, 1)\n",
        "        total += labels.size(0)\n",
        "        correct += (predicted == labels).sum().item()\n",
        "\n",
        "    # Print the results for the current epoch\n",
        "    train_loss = running_loss / len(trainloader)\n",
        "    train_acc = 100 * correct / total\n",
        "    print(f\"Epoch {epoch+1}/{num_epochs} - Loss: {train_loss:.4f} - Train Acc: {train_acc:.2f}%\")"
      ],
      "metadata": {
        "colab": {
          "base_uri": "https://localhost:8080/"
        },
        "id": "dpKRMYqFxMyJ",
        "outputId": "643308a9-aaff-432c-d43f-a58b1dc729bf"
      },
      "execution_count": 24,
      "outputs": [
        {
          "output_type": "stream",
          "name": "stdout",
          "text": [
            "Epoch 1/10 - Loss: 0.3895 - Train Acc: 86.26%\n",
            "Epoch 2/10 - Loss: 0.3797 - Train Acc: 86.71%\n",
            "Epoch 3/10 - Loss: 0.3788 - Train Acc: 86.78%\n",
            "Epoch 4/10 - Loss: 0.3674 - Train Acc: 87.06%\n",
            "Epoch 5/10 - Loss: 0.3654 - Train Acc: 87.27%\n",
            "Epoch 6/10 - Loss: 0.3633 - Train Acc: 87.29%\n",
            "Epoch 7/10 - Loss: 0.3613 - Train Acc: 87.44%\n",
            "Epoch 8/10 - Loss: 0.3571 - Train Acc: 87.53%\n",
            "Epoch 9/10 - Loss: 0.3504 - Train Acc: 87.70%\n",
            "Epoch 10/10 - Loss: 0.3477 - Train Acc: 87.84%\n"
          ]
        }
      ]
    },
    {
      "cell_type": "code",
      "source": [
        "# Test the model after training\n",
        "model.eval()  # Set model to evaluation mode\n",
        "correct = 0\n",
        "total = 0\n",
        "\n",
        "with torch.no_grad():  # Turn off gradients during evaluation\n",
        "    for inputs, labels in testloader:\n",
        "        inputs, labels = inputs.to(device), labels.to(device)\n",
        "\n",
        "        outputs = model(inputs)\n",
        "        _, predicted = torch.max(outputs, 1)\n",
        "        total += labels.size(0)\n",
        "        correct += (predicted == labels).sum().item()\n",
        "\n",
        "print(f\"Test Accuracy: {100 * correct / total:.2f}%\")"
      ],
      "metadata": {
        "colab": {
          "base_uri": "https://localhost:8080/"
        },
        "id": "vyqKI-eaxM0-",
        "outputId": "20ff56b5-537f-4119-8750-6a19dab74c32"
      },
      "execution_count": 25,
      "outputs": [
        {
          "output_type": "stream",
          "name": "stdout",
          "text": [
            "Test Accuracy: 80.94%\n"
          ]
        }
      ]
    },
    {
      "cell_type": "code",
      "source": [],
      "metadata": {
        "id": "TPzkcHXaxM3m"
      },
      "execution_count": null,
      "outputs": []
    },
    {
      "cell_type": "code",
      "source": [],
      "metadata": {
        "id": "fsw1G0x6xM6c"
      },
      "execution_count": null,
      "outputs": []
    },
    {
      "cell_type": "code",
      "source": [],
      "metadata": {
        "id": "56bPFoJ9xM9a"
      },
      "execution_count": null,
      "outputs": []
    }
  ]
}